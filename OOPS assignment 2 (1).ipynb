{
 "cells": [
  {
   "cell_type": "markdown",
   "id": "2f46d3b4-0604-4665-9bbd-e6bdc0c61ac1",
   "metadata": {},
   "source": [
    "Q1. What is Abstraction in OOps? Explain with an example."
   ]
  },
  {
   "cell_type": "markdown",
   "id": "d8e7c9f8-ebb0-4fd2-8ef5-b94cd7c33ce2",
   "metadata": {},
   "source": [
    "Ans. Hiding the internal details of an application from the outer world is called abstraction  in order to reduce the complexity.\n",
    "   For exampple car is a great example of abstraction. You can start a car by turning the key or pressing the start button. We don't need to know how the engine is getting started."
   ]
  },
  {
   "cell_type": "code",
   "execution_count": 1,
   "id": "95e4e65e-f0c2-4181-b019-138145291dd4",
   "metadata": {},
   "outputs": [
    {
     "name": "stdout",
     "output_type": "stream",
     "text": [
      "The mileage of Tesla is 30kmph\n",
      "The mileage of Suzuki is 25kmph \n"
     ]
    }
   ],
   "source": [
    "#Abstraction\n",
    "\n",
    "import abc \n",
    "\n",
    "class Car: \n",
    "    \n",
    "    @abc.abstractmethod\n",
    "    def mileage(self):   \n",
    "        pass  \n",
    "  \n",
    "class Tesla(Car):   \n",
    "    def mileage(self):   \n",
    "        print(\"The mileage of Tesla is 30kmph\")   \n",
    "        \n",
    "class Suzuki(Car):   \n",
    "    def mileage(self):   \n",
    "        print(\"The mileage of Suzuki is 25kmph \")   \n",
    "\n",
    "# Driver code   \n",
    "t= Tesla ()   \n",
    "t.mileage()     \n",
    "  \n",
    "s = Suzuki()   \n",
    "s.mileage()   "
   ]
  },
  {
   "cell_type": "markdown",
   "id": "ed54e3f4-5668-4e54-b58f-07ab39401e5b",
   "metadata": {},
   "source": [
    "Q2. Differentiate between Abstraction and Encapsulation. Explain with an example."
   ]
  },
  {
   "cell_type": "markdown",
   "id": "09046b50-ffbe-4c7a-9ffe-f6d006e96702",
   "metadata": {},
   "source": [
    "Ans. Abstraction is the method of hiding the unwanted information. Whereas encapsulation is a method to hide the data in a single entity or unit along with a method to protect information from outside.\n"
   ]
  },
  {
   "cell_type": "code",
   "execution_count": 2,
   "id": "af396fc9-4c43-414d-a02b-dfd60589e895",
   "metadata": {},
   "outputs": [],
   "source": [
    "#Encapsulation\n",
    "\n",
    "class test : \n",
    "    \n",
    "    \n",
    "    def __init__(self , a, b ):\n",
    "        self.a = a \n",
    "        self.b = b"
   ]
  },
  {
   "cell_type": "code",
   "execution_count": 3,
   "id": "71dc6033-c57e-4b80-8560-9103e8916c43",
   "metadata": {},
   "outputs": [],
   "source": [
    "t = test(23,34)"
   ]
  },
  {
   "cell_type": "code",
   "execution_count": 4,
   "id": "41f7345f-21a3-404e-9a10-7acb1afffb0d",
   "metadata": {},
   "outputs": [],
   "source": [
    "t.a=5342"
   ]
  },
  {
   "cell_type": "code",
   "execution_count": 5,
   "id": "1a918021-d008-4f5d-b7ea-d7a4eeacd38f",
   "metadata": {},
   "outputs": [
    {
     "data": {
      "text/plain": [
       "5342"
      ]
     },
     "execution_count": 5,
     "metadata": {},
     "output_type": "execute_result"
    }
   ],
   "source": [
    "t.a"
   ]
  },
  {
   "cell_type": "markdown",
   "id": "3f724bdb-480b-46a7-a3a9-f178686d3b22",
   "metadata": {},
   "source": [
    "Q3. What is abc module in python? Why is it used?"
   ]
  },
  {
   "cell_type": "markdown",
   "id": "e93a3026-d3f9-4731-9162-f5c830033f62",
   "metadata": {},
   "source": [
    "Ans. This module provides the infrastructure for defining abstract base classes (ABCs) in Python.\n",
    "\n",
    " this enables the best way to execute the process of data abstraction by providing the developers with the option of hiding the code implementation."
   ]
  },
  {
   "cell_type": "code",
   "execution_count": 6,
   "id": "b355b64c-ac7c-4d75-985b-ce3cfdff08bc",
   "metadata": {},
   "outputs": [
    {
     "name": "stdout",
     "output_type": "stream",
     "text": [
      "The RAM of samsung is 16gb\n",
      "The RAM of oneplus is 32gb \n"
     ]
    }
   ],
   "source": [
    "import abc \n",
    "\n",
    "class phone: \n",
    "    \n",
    "    @abc.abstractmethod\n",
    "    def ram(self):   \n",
    "        pass  \n",
    "  \n",
    "class samsung(phone):   \n",
    "    def ram(self):   \n",
    "        print(\"The RAM of samsung is 16gb\")   \n",
    "        \n",
    "class oneplus(phone):   \n",
    "    def ram(self):   \n",
    "        print(\"The RAM of oneplus is 32gb \")   \n",
    "\n",
    "# Driver code   \n",
    "s= samsung ()   \n",
    "s.ram()     \n",
    "  \n",
    "o = oneplus()   \n",
    "o.ram()   "
   ]
  },
  {
   "cell_type": "markdown",
   "id": "4dca899c-35f9-4c06-91a6-17ed7e68fac1",
   "metadata": {},
   "source": [
    "Q4. How can we achieve data abstraction?"
   ]
  },
  {
   "cell_type": "markdown",
   "id": "5efdff48-6b07-4579-9e48-8dfcdd4b9398",
   "metadata": {},
   "source": [
    "Ans. Data abstraction is a method where essential elements are displayed to the user and trivial elements are kept hidden.  Data Abstraction is achieved by using the abstract keyword for classes and interfaces. \n",
    "i've use example of this question in previous question."
   ]
  },
  {
   "cell_type": "markdown",
   "id": "55c51972-7653-487a-8eef-98ab7b786542",
   "metadata": {},
   "source": [
    "Q5. Can we create an instance of an abstract class? Explain your answer?"
   ]
  },
  {
   "cell_type": "markdown",
   "id": "262a09c1-c9aa-4fb1-bba7-daf6e322f5d1",
   "metadata": {},
   "source": [
    "Ans.. Abstract classes are not complete, as they may have some methods that are not defined. So we cannot create an instance of an abstract class in Python."
   ]
  },
  {
   "cell_type": "code",
   "execution_count": null,
   "id": "32d33340-c23b-4921-810a-c321e3977550",
   "metadata": {},
   "outputs": [],
   "source": []
  }
 ],
 "metadata": {
  "kernelspec": {
   "display_name": "Python 3 (ipykernel)",
   "language": "python",
   "name": "python3"
  },
  "language_info": {
   "codemirror_mode": {
    "name": "ipython",
    "version": 3
   },
   "file_extension": ".py",
   "mimetype": "text/x-python",
   "name": "python",
   "nbconvert_exporter": "python",
   "pygments_lexer": "ipython3",
   "version": "3.10.8"
  }
 },
 "nbformat": 4,
 "nbformat_minor": 5
}
